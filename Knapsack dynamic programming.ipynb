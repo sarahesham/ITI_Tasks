{
 "cells": [
  {
   "cell_type": "markdown",
   "metadata": {},
   "source": [
    "# Lab_3"
   ]
  },
  {
   "cell_type": "markdown",
   "metadata": {},
   "source": [
    "## Fibonacci iterative"
   ]
  },
  {
   "cell_type": "code",
   "execution_count": 51,
   "metadata": {},
   "outputs": [],
   "source": [
    "def fib (n):\n",
    "    fibo = [0, 1]\n",
    "    for i in range (2,n):\n",
    "        fibo.append((fibo[i-1] + fibo[i-2]))\n",
    "    return fibo"
   ]
  },
  {
   "cell_type": "code",
   "execution_count": 53,
   "metadata": {},
   "outputs": [
    {
     "data": {
      "text/plain": [
       "[0, 1, 1, 2, 3, 5, 8, 13, 21, 34]"
      ]
     },
     "execution_count": 53,
     "metadata": {},
     "output_type": "execute_result"
    }
   ],
   "source": [
    "fib(10)"
   ]
  },
  {
   "cell_type": "markdown",
   "metadata": {},
   "source": [
    "## Knapsack dynamic programming"
   ]
  },
  {
   "cell_type": "code",
   "execution_count": 54,
   "metadata": {},
   "outputs": [],
   "source": [
    "w = [3, 4, 5, 6]\n",
    "v = [2, 3, 4, 1] \n",
    "\n",
    "Weights_values = [(3,2), (4, 3), (5,4), (6,1)]\n",
    "\n",
    "def knapsack(weights, values, capacity):\n",
    "    results =[[0 for i in range(capacity+1)] for j in range(len(weights)+1)]\n",
    "    weights.insert(0,0)\n",
    "    values.insert(0,0)\n",
    "    \n",
    "    for item in range(len(weights)):\n",
    "        for w in range (capacity+1): \n",
    "            if item == 0 or w == 0:\n",
    "                results[item][w] = 0\n",
    "            \n",
    "            elif weights[item] <= w:\n",
    "                previos_element = results[item-1][w]\n",
    "                complement_element = results[item-1][w - weights[item]]\n",
    "                results[item][w] = max((complement_element + values[item]), results[item-1][w] )        \n",
    "            else:\n",
    "                results[item][w] = results[item-1][w]\n",
    "\n",
    "    return results"
   ]
  },
  {
   "cell_type": "markdown",
   "metadata": {},
   "source": [
    "# Lab example:\n",
    "## w = [3, 4, 5, 6]\n",
    "## v = [2, 3, 4, 1]\n"
   ]
  },
  {
   "cell_type": "code",
   "execution_count": 55,
   "metadata": {},
   "outputs": [
    {
     "data": {
      "text/plain": [
       "[[0, 0, 0, 0, 0, 0, 0, 0, 0],\n",
       " [0, 0, 0, 2, 2, 2, 2, 2, 2],\n",
       " [0, 0, 0, 2, 3, 3, 3, 5, 5],\n",
       " [0, 0, 0, 2, 3, 4, 4, 5, 6],\n",
       " [0, 0, 0, 2, 3, 4, 4, 5, 6]]"
      ]
     },
     "execution_count": 55,
     "metadata": {},
     "output_type": "execute_result"
    }
   ],
   "source": [
    "w = [3, 4, 5, 6]\n",
    "v = [2, 3, 4, 1] \n",
    "knapsack (w, v, 8)"
   ]
  },
  {
   "cell_type": "markdown",
   "metadata": {},
   "source": [
    "# End of lab"
   ]
  },
  {
   "cell_type": "markdown",
   "metadata": {},
   "source": [
    "# ..."
   ]
  },
  {
   "cell_type": "markdown",
   "metadata": {},
   "source": [
    "# Draft"
   ]
  },
  {
   "cell_type": "code",
   "execution_count": 34,
   "metadata": {},
   "outputs": [],
   "source": [
    "# draft fibonacci\n",
    "def fibo(n, fibolist):\n",
    "    if fibolist[n] == 1:\n",
    "        return 1\n",
    "    if fibolist[n] == 0:\n",
    "        return 0"
   ]
  },
  {
   "cell_type": "code",
   "execution_count": null,
   "metadata": {},
   "outputs": [],
   "source": []
  }
 ],
 "metadata": {
  "kernelspec": {
   "display_name": "Python 3",
   "language": "python",
   "name": "python3"
  },
  "language_info": {
   "codemirror_mode": {
    "name": "ipython",
    "version": 3
   },
   "file_extension": ".py",
   "mimetype": "text/x-python",
   "name": "python",
   "nbconvert_exporter": "python",
   "pygments_lexer": "ipython3",
   "version": "3.8.5"
  }
 },
 "nbformat": 4,
 "nbformat_minor": 4
}
