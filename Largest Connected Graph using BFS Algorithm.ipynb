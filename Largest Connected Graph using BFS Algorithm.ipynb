{
 "cells": [
  {
   "cell_type": "markdown",
   "metadata": {},
   "source": [
    "# Largest Connected Graph using BFS Algorithm"
   ]
  },
  {
   "cell_type": "code",
   "execution_count": 1,
   "metadata": {},
   "outputs": [],
   "source": [
    "\"\"\"Find the largest connected path\n",
    "\n",
    "Args:    \n",
    "    Nodes (List): The graph to search through .    \n",
    "   \n",
    "Returns:    \n",
    "    Path  \n",
    "\n",
    "\"\"\"\n",
    "\n",
    "def BFS(Nodes):\n",
    "    visited = []                                 # contains the graph visited nodes \n",
    "    explored = []                                # contains the child nodes   \n",
    "    path = []                                    # contains the path for each node\n",
    "    allPossiblePathes = []                       # contains the path of each node \n",
    "    \n",
    "    graph_length = len(Nodes)\n",
    "    \n",
    "    \n",
    "    # find the path of each node\n",
    "    for index in range(graph_length):            # iterates over each node in the graph\n",
    "        visited.append(index)                    # parent node\n",
    "        path.append(index)                       # search path\n",
    "        explored.append(Nodes[index])            # childs of the parent node\n",
    "        \n",
    "        # iterates over each explored node\n",
    "        for temp in explored:                         \n",
    "            for node in temp:\n",
    "                if node not in visited:\n",
    "                    visited.append(node)\n",
    "                    path.append(node)\n",
    "                    explored.append(Nodes[node])\n",
    "        \n",
    "        allPossiblePathes.append(path)        \n",
    "        visited = []\n",
    "        path = []\n",
    "        explored = []\n",
    "    \n",
    "    \n",
    "    largestPathLength= 0\n",
    "    largestConnectedGraph = '0'\n",
    "    \n",
    "    for largest in allPossiblePathes:\n",
    "        if len(largest) > largestPathLength:\n",
    "            largestPathLength = len(largest)\n",
    "            largestConnectedGraph = largest\n",
    "    \n",
    "    \n",
    "\n",
    "    return allPossiblePathes, largestConnectedGraph, largestPathLength\n",
    "            \n",
    "        \n",
    "            "
   ]
  },
  {
   "cell_type": "code",
   "execution_count": 2,
   "metadata": {},
   "outputs": [],
   "source": [
    "nodes = [[1], [0, 3, 8], [4], [1], [2], [8], [7], [6, 9], [1, 5], [7]]\n",
    "allPossiblePathes, largestConnectedGraph, largestPathLength = BFS(nodes)\n"
   ]
  },
  {
   "cell_type": "code",
   "execution_count": 3,
   "metadata": {},
   "outputs": [
    {
     "name": "stdout",
     "output_type": "stream",
     "text": [
      "The largest connected graph is:\n",
      " [0, 1, 3, 8, 5]\n"
     ]
    }
   ],
   "source": [
    "print(\"The largest connected graph is:\\n\", largestConnectedGraph)"
   ]
  },
  {
   "cell_type": "code",
   "execution_count": 5,
   "metadata": {},
   "outputs": [
    {
     "name": "stdout",
     "output_type": "stream",
     "text": [
      "All possible Graphs are:\n",
      " [[0, 1, 3, 8, 5], [1, 0, 3, 8, 5], [2, 4], [3, 1, 0, 8, 5], [4, 2], [5, 8, 1, 0, 3], [6, 7, 9], [7, 6, 9], [8, 1, 5, 0, 3], [9, 7, 6]]\n"
     ]
    }
   ],
   "source": [
    "print(\"All possible Graphs are:\\n\", allPossiblePathes )"
   ]
  }
 ],
 "metadata": {
  "kernelspec": {
   "display_name": "Python 3",
   "language": "python",
   "name": "python3"
  },
  "language_info": {
   "codemirror_mode": {
    "name": "ipython",
    "version": 3
   },
   "file_extension": ".py",
   "mimetype": "text/x-python",
   "name": "python",
   "nbconvert_exporter": "python",
   "pygments_lexer": "ipython3",
   "version": "3.8.5"
  }
 },
 "nbformat": 4,
 "nbformat_minor": 4
}
